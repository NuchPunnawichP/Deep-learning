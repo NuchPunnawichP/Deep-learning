{
 "cells": [
  {
   "cell_type": "code",
   "execution_count": 7,
   "metadata": {},
   "outputs": [
    {
     "name": "stdout",
     "output_type": "stream",
     "text": [
      "Comparison of actual and predicted values:\n",
      "      Actual  Predicted\n",
      "300  2953.96    2953.96\n",
      "145  1433.41    1433.41\n",
      "302  2973.58    2973.58\n",
      "222  2188.78    2188.78\n",
      "52    521.08     521.08\n",
      "..       ...        ...\n",
      "200  1972.96    1972.96\n",
      "59    589.75     589.75\n",
      "34    344.50     344.50\n",
      "269  2649.85    2649.85\n",
      "33    334.69     334.69\n",
      "\n",
      "[62 rows x 2 columns]\n"
     ]
    }
   ],
   "source": [
    "from sklearn.model_selection import train_test_split\n",
    "from sklearn.linear_model import LinearRegression\n",
    "from sklearn import metrics\n",
    "import pandas as pd\n",
    "\n",
    "file_path = r\"C:\\Users\\Pannawit\\Documents\\GitHub\\Deep-learning\\Random_AI_generared_by_Notion\\Book1.xlsx\"\n",
    "data = pd.read_excel(file_path)\n",
    "\n",
    "X = data[['x']]\n",
    "y = data['y']\n",
    "\n",
    "X_train, X_test, y_train, y_test = train_test_split(X, y, test_size=0.2, random_state=0)\n",
    "\n",
    "regressor = LinearRegression()\n",
    "\n",
    "regressor.fit(X_train, y_train)\n",
    "\n",
    "y_pred = regressor.predict(X_test)\n",
    "\n",
    "df = pd.DataFrame({'Actual': y_test, 'Predicted': y_pred})\n",
    "print(\"Comparison of actual and predicted values:\")\n",
    "print(df)"
   ]
  },
  {
   "cell_type": "code",
   "execution_count": 8,
   "metadata": {},
   "outputs": [
    {
     "name": "stdout",
     "output_type": "stream",
     "text": [
      "Accuracy: 100.00%\n"
     ]
    }
   ],
   "source": [
    "from sklearn.metrics import r2_score\n",
    "\n",
    "r2 = r2_score(y_test, y_pred)\n",
    "\n",
    "accuracy_percentage = r2 * 100\n",
    "print(f'Accuracy: {accuracy_percentage:.2f}%')\n"
   ]
  }
 ],
 "metadata": {
  "kernelspec": {
   "display_name": "Python 3",
   "language": "python",
   "name": "python3"
  },
  "language_info": {
   "codemirror_mode": {
    "name": "ipython",
    "version": 3
   },
   "file_extension": ".py",
   "mimetype": "text/x-python",
   "name": "python",
   "nbconvert_exporter": "python",
   "pygments_lexer": "ipython3",
   "version": "3.12.3"
  }
 },
 "nbformat": 4,
 "nbformat_minor": 2
}
